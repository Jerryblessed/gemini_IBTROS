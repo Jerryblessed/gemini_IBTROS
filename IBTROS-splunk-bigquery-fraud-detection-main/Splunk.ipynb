{
  "nbformat": 4,
  "nbformat_minor": 0,
  "metadata": {
    "colab": {
      "name": "BigQuery table",
      "cell_execution_strategy": "setup",
      "provenance": []
    },
    "kernelspec": {
      "name": "python3",
      "display_name": "Python 3"
    },
    "language_info": {
      "name": "python"
    }
  },
  "cells": [
    {
      "cell_type": "markdown",
      "source": [
        "#Create a Search Job and Get SID from Splunk"
      ],
      "metadata": {
        "id": "nSTlEFhP_rtX"
      }
    },
    {
      "cell_type": "code",
      "source": [
        "!unzip IBTROS.zip -d extracted_folder/\n"
      ],
      "metadata": {
        "id": "kYYoE1tVAPMF",
        "outputId": "9ac0bdd7-d2f2-44db-f3d4-93af54ed5781",
        "colab": {
          "base_uri": "https://localhost:8080/"
        }
      },
      "execution_count": 9,
      "outputs": [
        {
          "output_type": "stream",
          "name": "stdout",
          "text": [
            "Archive:  IBTROS.zip\n",
            "  End-of-central-directory signature not found.  Either this file is not\n",
            "  a zipfile, or it constitutes one disk of a multi-part archive.  In the\n",
            "  latter case the central directory and zipfile comment will be found on\n",
            "  the last disk(s) of this archive.\n",
            "unzip:  cannot find zipfile directory in one of IBTROS.zip or\n",
            "        IBTROS.zip.zip, and cannot find IBTROS.zip.ZIP, period.\n"
          ]
        }
      ]
    }
  ]
}